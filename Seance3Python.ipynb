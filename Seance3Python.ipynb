{
 "cells": [
  {
   "cell_type": "code",
   "execution_count": 2,
   "metadata": {},
   "outputs": [],
   "source": [
    "import numpy as np\n",
    "import matplotlib.pyplot as plt\n"
   ]
  },
  {
   "cell_type": "code",
   "execution_count": 3,
   "metadata": {},
   "outputs": [],
   "source": [
    "def fonction(x):\n",
    "    if x<0 or x>1:\n",
    "        return(\"valeur de x incorrecte\")  \n",
    "    \n",
    "    else:\n",
    "        res = (x**3)+(2*x)-2\n",
    "    return res"
   ]
  },
  {
   "cell_type": "code",
   "execution_count": 16,
   "metadata": {},
   "outputs": [],
   "source": [
    "def Racine(N):\n",
    "    intervalle=[0,0.5,1]\n",
    "    count=0\n",
    "    while count<N :\n",
    "        if fonction(intervalle[0])*fonction(intervalle[1])<0:\n",
    "            intervalle = [intervalle[0],(intervalle[0]+intervalle[1])/2,intervalle[1]]\n",
    "        else : \n",
    "            intervalle = [intervalle[1],(intervalle[1]+intervalle[2])/2,intervalle[2]] \n",
    "        count = count + 1\n",
    "    return intervalle\n",
    "            "
   ]
  },
  {
   "cell_type": "code",
   "execution_count": 17,
   "metadata": {},
   "outputs": [
    {
     "name": "stdout",
     "output_type": "stream",
     "text": [
      "[0.7705078125, 0.77099609375, 0.771484375]\n"
     ]
    }
   ],
   "source": [
    "print(Racine(10))\n"
   ]
  },
  {
   "cell_type": "code",
   "execution_count": null,
   "metadata": {},
   "outputs": [],
   "source": []
  }
 ],
 "metadata": {
  "kernelspec": {
   "display_name": "Python 3",
   "language": "python",
   "name": "python3"
  },
  "language_info": {
   "codemirror_mode": {
    "name": "ipython",
    "version": 3
   },
   "file_extension": ".py",
   "mimetype": "text/x-python",
   "name": "python",
   "nbconvert_exporter": "python",
   "pygments_lexer": "ipython3",
   "version": "3.7.6"
  }
 },
 "nbformat": 4,
 "nbformat_minor": 4
}
